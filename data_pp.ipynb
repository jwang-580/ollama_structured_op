{
 "cells": [
  {
   "cell_type": "code",
   "execution_count": 11,
   "metadata": {},
   "outputs": [],
   "source": [
    "from ollama import chat\n",
    "from pydantic import BaseModel, Field\n",
    "from typing import List, Literal, Union, Dict\n",
    "import json"
   ]
  },
  {
   "cell_type": "code",
   "execution_count": 28,
   "metadata": {},
   "outputs": [],
   "source": [
    "AVAILABLE_MODELS = {\n",
    "    'llama3.3': 'llama3.3',\n",
    "    'llama3.3-q8': 'llama3.3:70b-instruct-q8_0',\n",
    "    'gemma3_fp16': 'gemma3:27b-it-fp16',\n",
    "    'gemma3_q8': 'gemma3:27b-it-q8_0',\n",
    "}\n",
    "\n",
    "DEFAULT_MODEL = 'gemma3_q8'\n",
    "\n",
    "model = AVAILABLE_MODELS[DEFAULT_MODEL]"
   ]
  },
  {
   "cell_type": "code",
   "execution_count": 25,
   "metadata": {},
   "outputs": [],
   "source": [
    "HADM_ID = 131407.0"
   ]
  },
  {
   "cell_type": "code",
   "execution_count": 30,
   "metadata": {},
   "outputs": [
    {
     "name": "stdout",
     "output_type": "stream",
     "text": [
      "medications=['Cellcept 0.50 gm QAM', 'Cellcept 0.75 gm QPM', 'Prednisone 7.5 mg daily', 'Cyclosporine 70 mg', 'Nifedipine ER 30 mg daily']\n"
     ]
    }
   ],
   "source": [
    "# admission medication extraction, use structured output\n",
    "class AdmissionMeds(BaseModel):\n",
    "    medications: List[str] = Field(description=\"List of medications with dosage forms, e.g. 'Celexa 20mg capsule'\")\n",
    "\n",
    "admission_meds = json.load(open(f'results/notes/admission_meds_{HADM_ID}.json'))\n",
    "\n",
    "meds_prompt = f\"\"\"\n",
    "Extract all medications from the below json file, including the dosage form and dosage strength. e.g. 'Celexa 20mg capsule'\n",
    "Medications:\n",
    "{admission_meds}\n",
    "\"\"\"\n",
    "\n",
    "response = chat(\n",
    "  messages=[\n",
    "    {\n",
    "      'role': 'user',\n",
    "      'content': meds_prompt,\n",
    "    }\n",
    "  ],\n",
    "  model=model,\n",
    "  format=AdmissionMeds.model_json_schema(),\n",
    ")\n",
    "\n",
    "admission_med_list = AdmissionMeds.model_validate_json(response.message.content)\n",
    "print(admission_med_list)"
   ]
  },
  {
   "cell_type": "code",
   "execution_count": 29,
   "metadata": {},
   "outputs": [
    {
     "name": "stdout",
     "output_type": "stream",
     "text": [
      "scans={'2141-04-15': 'CT CAP: 1. Extensive retroperitoneal and mesenteric lymphadenopathy in addition to enlarged lymph nodes posterior to the descending thoracic aorta. In the setting of recent renal transplant, these findings are worrisome for post-transplant lymphoproliferative disorder or a lymphoma. 2. Mild ascites. 3. Right shoulder lipoma. 4. Small bilateral pleural effusions. CT Neck - Unremarkable', '2141-04-17': \"ECHO - The left atrium is dilated. The right atrium is moderately dilated. Left ventricular wall thickness, cavity size and regional/global systolic function are normal (LVEF >55%). Due to suboptimal technical quality, a focal wall motion abnormality cannot be fully excluded. The right ventricular cavity is mildly dilated with normal free wall contractility. The aortic valve leaflets (3) are mildly thickened but aortic stenosis is not present. No masses or vegetations are seen on the aortic valve, but cannot be fully excluded due to suboptimal image quality. The mitral valve leaflets are mildly thickened. No masses or vegetations are seen on the mitral valve, but cannot be fully excluded due to suboptimal image quality. There is moderate pulmonary artery systolic hypertension. There is no pericardial effusion. IMPRESSION: poor technical quality due to patient's body habitus. No evidence of endocarditis (cannot be excluded). Left ventricular function is probably normal, a focal wall motion abnormality cannot be fully excluded. The right ventricle appears mildly dilated. No pathologic valvular abnormality seen. Moderate pulmonary artery systolic hypertension.\"}\n"
     ]
    }
   ],
   "source": [
    "# extract scans from restuls\n",
    "class Scans(BaseModel):\n",
    "    scans: Dict[str, str] = Field(description=\"Dictionary of scans with date and resutls, e.g. {'2124-01-01': 'CT CAP: 1. Extensive retroperitoneal...'}\")\n",
    "\n",
    "scan_notes = json.load(open(f'results/notes/scans_{HADM_ID}.json'))\n",
    "\n",
    "scan_prompt = f\"\"\"\n",
    "Extract all medical imaging scan results and date from the below json file, e.g. {{'2134-01-01': 'CT CAP: 1. Extensive retroperitoneal...'}}\n",
    "Scans:\n",
    "{scan_notes}\n",
    "\"\"\"\n",
    "\n",
    "response = chat(\n",
    "  messages=[\n",
    "    {\n",
    "      'role': 'user',\n",
    "      'content': scan_prompt,\n",
    "    }\n",
    "  ],\n",
    "  model=model,\n",
    "  format=Scans.model_json_schema(),\n",
    ")\n",
    "\n",
    "scan_dict = Scans.model_validate_json(response.message.content)\n",
    "print(scan_dict)"
   ]
  },
  {
   "cell_type": "code",
   "execution_count": 33,
   "metadata": {},
   "outputs": [
    {
     "name": "stdout",
     "output_type": "stream",
     "text": [
      "Sample processed event:\n",
      "{'admit_time': '2153-04-24 15:55:00', 'discharge_time': '2153-04-30', 'event_time': '2153-04-30 08:00:00', 'vitals': 'Tmax: 37,C (98.6,   Tcurrent: 36.7,C (98,   HR: 77 (76 - 85) bpm,   BP: 134/61(78) {111/57(73) - 144/71(84)} mmHg,   ', 'events': '24 Hour Events:, CALLED OUT,  -called out,  -Surgery recommended to discontinue medication and re-start home, medication,'}\n"
     ]
    }
   ],
   "source": [
    "HADM_ID = 29463\n",
    "\n",
    "# modify events to exclude any mentioning of medications\n",
    "class ModifiedEvent(BaseModel):\n",
    "    modified_text: str = Field(description=\"Event text with medication mentions replaced\")\n",
    "\n",
    "events = json.load(open(f'results/notes/events_{HADM_ID}.json'))\n",
    "\n",
    "processed_events = []\n",
    "\n",
    "for event in events:\n",
    "    event_text = event.get('events', '')\n",
    "    \n",
    "    single_event_prompt = f\"\"\"\n",
    "    Modify the following hospital event text by replacing any mentions of specific medications with the generic word 'medication'.\n",
    "    Do not remove or alter any other information such as dates, vitals, or non-medication related events.\n",
    "    \n",
    "    Event Text:\n",
    "    {event_text}\n",
    "    \"\"\"\n",
    "    \n",
    "    response = chat(\n",
    "        messages=[\n",
    "            {\n",
    "                'role': 'user',\n",
    "                'content': single_event_prompt,\n",
    "            }\n",
    "        ],\n",
    "        model=model,\n",
    "        format=ModifiedEvent.model_json_schema(),\n",
    "    )\n",
    "    \n",
    "    result = ModifiedEvent.model_validate_json(response.message.content)\n",
    "    \n",
    "    # Create a copy of the original event and update only the events field\n",
    "    modified_event = event.copy()\n",
    "    modified_event['events'] = result.modified_text\n",
    "    processed_events.append(modified_event)\n",
    "\n",
    "# Print the first processed event as an example\n",
    "print(\"Sample processed event:\")\n",
    "print(processed_events[1])"
   ]
  },
  {
   "cell_type": "code",
   "execution_count": null,
   "metadata": {},
   "outputs": [],
   "source": []
  }
 ],
 "metadata": {
  "kernelspec": {
   "display_name": "note_curation",
   "language": "python",
   "name": "python3"
  },
  "language_info": {
   "codemirror_mode": {
    "name": "ipython",
    "version": 3
   },
   "file_extension": ".py",
   "mimetype": "text/x-python",
   "name": "python",
   "nbconvert_exporter": "python",
   "pygments_lexer": "ipython3",
   "version": "3.11.11"
  }
 },
 "nbformat": 4,
 "nbformat_minor": 2
}
