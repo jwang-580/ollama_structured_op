{
 "cells": [
  {
   "cell_type": "code",
   "execution_count": 10,
   "metadata": {},
   "outputs": [],
   "source": [
    "import pandas as pd\n",
    "import json"
   ]
  },
  {
   "cell_type": "code",
   "execution_count": null,
   "metadata": {},
   "outputs": [],
   "source": [
    "note = pd.read_csv('data/NOTEEVENTS.csv')\n",
    "\n",
    "# Get admission IDs that have both admission notes and discharge summaries\n",
    "admission_ids = note[note['DESCRIPTION'].str.contains('Admission Note', na=False)]['HADM_ID']\n",
    "discharge_ids = note[note['CATEGORY'] == 'Discharge summary']['HADM_ID']\n",
    "admissions_with_both = set(admission_ids) & set(discharge_ids)\n",
    "filtered_notes = note[note['HADM_ID'].isin(admissions_with_both)]\n",
    "\n",
    "# filtered_notes.to_csv('data/filtered_notes.csv', index=False)"
   ]
  },
  {
   "cell_type": "code",
   "execution_count": 11,
   "metadata": {},
   "outputs": [
    {
     "data": {
      "text/plain": [
       "array([26601, 96774, 62745, ..., 92606, 76012, 28475], shape=(5020,))"
      ]
     },
     "execution_count": 11,
     "metadata": {},
     "output_type": "execute_result"
    }
   ],
   "source": [
    "filtered_notes = pd.read_csv('data/filtered_notes.csv')\n",
    "filtered_notes['SUBJECT_ID'].unique()"
   ]
  },
  {
   "cell_type": "code",
   "execution_count": 12,
   "metadata": {},
   "outputs": [
    {
     "name": "stderr",
     "output_type": "stream",
     "text": [
      "/tmp/ipykernel_484594/3688311774.py:1: DtypeWarning: Columns (11) have mixed types. Specify dtype option on import or set low_memory=False.\n",
      "  prescription = pd.read_csv('data/PRESCRIPTIONS.csv')\n"
     ]
    }
   ],
   "source": [
    "prescription = pd.read_csv('data/PRESCRIPTIONS.csv')\n",
    "labs = pd.read_csv('data/labs_with_labels.csv')"
   ]
  },
  {
   "cell_type": "code",
   "execution_count": 22,
   "metadata": {},
   "outputs": [],
   "source": [
    "pt_id = 96774"
   ]
  },
  {
   "cell_type": "code",
   "execution_count": 23,
   "metadata": {},
   "outputs": [],
   "source": [
    "note_type = ['Discharge summary', 'Physician ', 'Consult', 'Radiology']\n",
    "progress_notes = filtered_notes[(filtered_notes['SUBJECT_ID'] == pt_id) & \n",
    "                                (filtered_notes['CATEGORY'].isin(note_type))]\n",
    "# filter out duplicate CGID\n",
    "progress_notes = progress_notes.drop_duplicates(subset=['CGID'])\n",
    "# fitler out duplicate note time\n",
    "progress_notes = progress_notes.drop_duplicates(subset=['CHARTTIME'])\n",
    "progress_notes.to_csv(f'data/progress_notes_{pt_id}.csv', index=False)"
   ]
  },
  {
   "cell_type": "code",
   "execution_count": 24,
   "metadata": {},
   "outputs": [],
   "source": [
    "sample_meds = prescription[prescription['SUBJECT_ID']==pt_id]\n",
    "sample_meds.to_csv(f'data/sample_meds_{pt_id}.csv', index=False)"
   ]
  },
  {
   "cell_type": "code",
   "execution_count": 25,
   "metadata": {},
   "outputs": [],
   "source": [
    "sample_lab = labs[(labs['SUBJECT_ID'] == pt_id) & (labs['FLAG'] == 'abnormal')]\n",
    "sample_lab.to_csv(f'data/sample_lab_{pt_id}.csv', index=False)"
   ]
  },
  {
   "cell_type": "code",
   "execution_count": null,
   "metadata": {},
   "outputs": [],
   "source": []
  }
 ],
 "metadata": {
  "kernelspec": {
   "display_name": "note_curation",
   "language": "python",
   "name": "python3"
  },
  "language_info": {
   "codemirror_mode": {
    "name": "ipython",
    "version": 3
   },
   "file_extension": ".py",
   "mimetype": "text/x-python",
   "name": "python",
   "nbconvert_exporter": "python",
   "pygments_lexer": "ipython3",
   "version": "3.11.11"
  }
 },
 "nbformat": 4,
 "nbformat_minor": 2
}
