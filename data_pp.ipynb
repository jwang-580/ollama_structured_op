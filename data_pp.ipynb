{
 "cells": [
  {
   "cell_type": "code",
   "execution_count": 2,
   "metadata": {},
   "outputs": [],
   "source": [
    "import json\n",
    "import pandas as pd\n",
    "import re\n",
    "from datetime import datetime, timedelta\n",
    "from typing import List, Dict, Tuple\n",
    "from pydantic import BaseModel, Field, validator\n",
    "from ollama import chat\n",
    "import os\n",
    "from openai import OpenAI\n",
    "from dotenv import load_dotenv\n",
    "\n",
    "load_dotenv()\n",
    "\n",
    "client = OpenAI(api_key=os.getenv('OAI_API_KEY'))"
   ]
  },
  {
   "cell_type": "code",
   "execution_count": 3,
   "metadata": {},
   "outputs": [],
   "source": [
    "progress_notes = pd.read_csv('results/datasets/combined_hospital_progress_medications_analysis.csv')"
   ]
  },
  {
   "cell_type": "code",
   "execution_count": 12,
   "metadata": {},
   "outputs": [
    {
     "name": "stdout",
     "output_type": "stream",
     "text": [
      "Reasoning (Step-by-step clinical reasoning process):\n",
      "\n",
      "Alright, let’s break this down. We have a 43‐year‐old gentleman with a history of recurrent diverticulitis who has undergone several significant surgical interventions. His course began with a laparoscopic sigmoid colectomy for recurrent episodes and then evolved into more extensive procedures postoperatively due to complications—specifically, an anastomotic leak as evidenced by a CT scan demonstrating extraluminal contrast extravasation and the subsequent need for drainage and additional surgical management.\n",
      "\n",
      "On top of the abdominal complications, the patient’s systemic response has been notable. His recent vital signs have shown fevers with Tmax values reaching about 38.7–38.8°C and episodes of tachycardia with heart rates in the 120–140 range. His laboratory findings reinforce the picture of significant inflammation or infection with markedly elevated white blood cell counts (up to 41.0 K/uL) and a drop in hematologic indices that required blood product support earlier in the course.\n",
      "\n",
      "Importantly, amidst these infectious and surgical complications, the patient developed changes in mental status including confusion, memory issues, and agitation. While postoperative delirium can be multifactorial, in a patient with multiple surgeries and critical illness, such neurological changes are concerning for the reactivation of a neurotropic pathogen. The fact that similar therapy had been initiated earlier in his hospital stay suggests there was already concern for a viral process in the setting of an immunocompromised state secondary to his complicated course, stress, and multiple interventions.\n",
      "\n",
      "Integrating the clinical data—the evidence of systemic infection, the imaging findings supportive of an ongoing abdominal leak, the elevated inflammatory markers, and now the neurological changes—the treating team needed to address the possibility of a viral reactivation affecting the central nervous system in this high-risk, post-surgical patient.\n",
      "\n",
      "Therefore, due to his complex postoperative course complicated by an abdominal leak with systemic inflammation and new-onset neurological changes suggestive of viral central nervous system involvement, Acyclovir, PO was started today.\n"
     ]
    }
   ],
   "source": [
    "\n",
    "\n",
    "for idx, row in progress_notes.iloc[1:2].iterrows():\n",
    "    hadm_id = row['HADM_ID']\n",
    "    progress_note = row['Progress_note']\n",
    "    medication = row['medication']\n",
    "    with open(f'results/notes/a_p_{hadm_id}.json', 'r') as f:\n",
    "        assessment_plan = json.load(f)\n",
    "    \n",
    "    cot_prompt = f\"\"\"\n",
    "        You are provided with the following:\n",
    "        1. A patient progress note\n",
    "        2. The Assessment and Plan section of the note\n",
    "        3. A specific medication that was started on the same day as the note\n",
    "        Your task is to reason step-by-step like the treating physician that lead to the final conclusion that this medication needs to be started.\n",
    "\n",
    "        Guidelines for Reasoning:\n",
    "\n",
    "        1. Use a clinical reasoning tone (e.g. Alright, let’s break this down...Okay, let’s reconsider...Oh, wait a second, maybe we're missing something simpler...But hang on, what if...). As you are reasoning to the conclusion (the medication), the medication itself should not occur in the reasoning process.\n",
    "\n",
    "        2.  Summarize the clinical course and intergrate clinical data (chief complaint, past medical history, recent events, vital signs, lab results, imaging findings, current medications, etc. MENTION SPECIFIC CLINICAL DATA!) in your reasoning; remember, imaging findings are usually important. \n",
    "\n",
    "        3. Review the Assessment and Plan section.\n",
    "            - It may explicitly state the reasoning for the medication.\n",
    "            - However, do not assume the reasoning is correct, assess it critically.\n",
    "            - DO NOT CITE ANYTHING FROM THE ASSESSMENT AND PLAN SECTION, but use it as if you come up with the reasoning yourself.\n",
    "        \n",
    "        4. Use this as the final sentence: Therefore, due to (summary of reasons), XXX (medication) was started today.\n",
    "\n",
    "        ### Input Format:\n",
    "        Progress Note:\n",
    "        {progress_note}\n",
    "\n",
    "        Assessment and Plan:\n",
    "        {assessment_plan}\n",
    "\n",
    "        Medication Started:\n",
    "        {medication}\n",
    "\n",
    "        ### Output Format:\n",
    "        Reasoning (Step-by-step clinical reasoning process):\n",
    "        {{Your detailed reasoning trace}}\n",
    "\n",
    "        \"\"\"\n",
    "\n",
    "    response = client.chat.completions.create(\n",
    "        model=\"o3-mini-2025-01-31\",\n",
    "        messages=[{\"role\": \"user\", \"content\": cot_prompt}]\n",
    "    )\n",
    "    \n",
    "    # Print or save the response\n",
    "    print(response.choices[0].message.content)\n"
   ]
  },
  {
   "cell_type": "code",
   "execution_count": null,
   "metadata": {},
   "outputs": [],
   "source": []
  }
 ],
 "metadata": {
  "kernelspec": {
   "display_name": "note_curation",
   "language": "python",
   "name": "python3"
  },
  "language_info": {
   "codemirror_mode": {
    "name": "ipython",
    "version": 3
   },
   "file_extension": ".py",
   "mimetype": "text/x-python",
   "name": "python",
   "nbconvert_exporter": "python",
   "pygments_lexer": "ipython3",
   "version": "3.11.11"
  }
 },
 "nbformat": 4,
 "nbformat_minor": 2
}
